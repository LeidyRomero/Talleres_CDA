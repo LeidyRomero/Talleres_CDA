{
 "cells": [
  {
   "cell_type": "markdown",
   "metadata": {},
   "source": [
    "# Taller en clase CDA 19/11/2020\n",
    "Guillermo Lobaton 201615260\n",
    "\n",
    "Maria Ocampo 201719100\n",
    "\n",
    "Leidy Romero 201714832"
   ]
  },
  {
   "cell_type": "code",
   "execution_count": 1,
   "metadata": {},
   "outputs": [],
   "source": [
    "import os, sys\n",
    "import numpy as np\n",
    "import pandas as pd\n",
    "import pandas_profiling   ####Verificar que esté instalada. Si no está instalada, se puede utilziar el comando conda install -c conda-forge pandas-profiling --y\n",
    "from IPython.display import Image\n",
    "from matplotlib import pyplot as plt\n",
    "\n",
    "from sklearn.preprocessing import StandardScaler\n",
    "from sklearn.model_selection import train_test_split\n",
    "from sklearn import metrics\n",
    "from sklearn.metrics import f1_score, roc_auc_score\n",
    "from sklearn.linear_model import LogisticRegression\n",
    "from sklearn.ensemble import RandomForestClassifier\n",
    "from sklearn.model_selection import GridSearchCV   #####Revisar esta librería.\n",
    "from sklearn.neural_network import MLPClassifier\n",
    "\n",
    "from sklearn.tree import DecisionTreeClassifier\n",
    "from sklearn.metrics import accuracy_score\n",
    "from sklearn import tree\n",
    "\n",
    "from sklearn.metrics import confusion_matrix\n",
    "from sklearn.metrics import recall_score\n",
    "from sklearn.metrics import precision_score\n",
    "from sklearn.metrics import classification_report\n",
    "from sklearn.ensemble import GradientBoostingClassifier\n",
    "\n",
    "#from sklearn.externals.six import StringIO  \n",
    "from IPython.display import Image  \n",
    "from sklearn.tree import export_graphviz\n",
    "#import pydotplus\n",
    "\n",
    "#from sklearn.externals import joblib"
   ]
  },
  {
   "cell_type": "markdown",
   "metadata": {},
   "source": [
    "###  Configuración del directorio y lectura de los datos"
   ]
  },
  {
   "cell_type": "code",
   "execution_count": 2,
   "metadata": {},
   "outputs": [],
   "source": [
    "##Importante, el archivo no está seoarada por comas, si no por punto y coma\n",
    "data=pd.read_excel('clean_data.xlsx').drop(['Unnamed: 0'],axis=1)"
   ]
  },
  {
   "cell_type": "code",
   "execution_count": 3,
   "metadata": {},
   "outputs": [
    {
     "data": {
      "text/plain": [
       "Index(['CUENTA_TDC', 'ALTURA_MORA_TDC', 'HABITO_PAGO_TDC', 'Edad',\n",
       "       'ALTURA_MOR_MAX', 'SALDO_TDC', 'SALDO_CC', 'SALDO_SBG', 'CUPO_TDC',\n",
       "       'CUPO_CC', 'CUPO_SBG', 'SALDO_TOTAL', 'Y', 'UTIL_TDC', 'CUPO_TOTAL',\n",
       "       'UTIL_TOTAL', 'SUMA_ALTURA_MORA', 'MORA_MAX_N_12', 'MAX_CUPO_TDC_3',\n",
       "       'MAX_CUPO_TDC_6', 'MAX_CUPO_TDC_12', 'NUM_MESES_SIN_MORA_3',\n",
       "       'NUM_MESES_SIN_MORA_6', 'NUM_MESES_SIN_MORA_12', 'estrato',\n",
       "       'NOMBRE_CIUDAD', 'DEPARTAMENTO', 'ACT_ECO', 'SEXO', 'NIVEL_EST'],\n",
       "      dtype='object')"
      ]
     },
     "execution_count": 3,
     "metadata": {},
     "output_type": "execute_result"
    }
   ],
   "source": [
    "data.columns"
   ]
  },
  {
   "cell_type": "markdown",
   "metadata": {},
   "source": [
    "## Entendimiento de negocio\n",
    "A partir del contexto de negocio entregado se sabe que se tienen variables que describen una la altura de monto por cada producto, sin embargo revisando los datos y bajo la premisa \"se entiende como mal comportamiento, clientes con una altura de mora mayor a 90 días en algunos de sus productos\" se identifico que estas columnas no coinciden con la variable objetivo \"Y\" la cual toma el valor de 0 si el cliente no entro en mora (es decir, que no se perdió) y 1 de lo contrario. Por lo anterior se decide no tener en cuenta estas variables y sus agregaciones(Ej. SUMA_ALTURA_MORA) confiando en que la variable objetivo \"Y\" fue calculada a partir de otros procesos de negocio.\n",
    "\n",
    "Las variables relacionadas a \"UTIL\" no se tienen en cuenta debido a la falta de conocimiento sobre su significado para el negocio. Este es el mismo caso para las variables \"NUM_MESES_SIN_MORA_X\" donde X toma valores de 3,6 y 12 se identifica que estas variables son un contador acumulativo que analiza el comportamiento de los clientes cada trimestre, sin embargo no consideramos que sean variables que aporten valor al negocio. Lo anterior también paso para las variables \"MAX_CUPO_TDC_X\""
   ]
  },
  {
   "cell_type": "markdown",
   "metadata": {},
   "source": [
    "## HIPOTESIS\n",
    "1. Las personas independientes de estratos 2 y 3 son más propensas a entrar en mora\n",
    "2. Los hombres entre 20 y 40 años tienen mayor posibilidad de entrar en mora que las mujeres de ese mismo rango de edad, eso independientemente del nivel de estudios.\n",
    "3. Las mujeres de los departamentos Bogotá, Valle del Cauca y Antioquia con un cupo total entre $1.000.000 y $2.000.000 tienen una mayor probabilidad de entrar en mora\n",
    "\n",
    "Hipótesis seleccionada: "
   ]
  },
  {
   "cell_type": "markdown",
   "metadata": {},
   "source": [
    "### Selección de variables para el análisis."
   ]
  },
  {
   "cell_type": "code",
   "execution_count": 4,
   "metadata": {},
   "outputs": [],
   "source": [
    "data_analisis=data.loc[:, ['CUENTA_TDC','HABITO_PAGO_TDC','SALDO_TDC','SALDO_CC', 'SALDO_SBG','CUPO_TDC',\n",
    "                           'CUPO_CC','CUPO_SBG','Edad','estrato','NOMBRE_CIUDAD','DEPARTAMENTO','ACT_ECO',\n",
    "                           'SEXO','NIVEL_EST','SALDO_TOTAL','CUPO_TOTAL','Y']]"
   ]
  },
  {
   "cell_type": "code",
   "execution_count": 5,
   "metadata": {},
   "outputs": [
    {
     "data": {
      "text/plain": [
       "(5000, 18)"
      ]
     },
     "execution_count": 5,
     "metadata": {},
     "output_type": "execute_result"
    }
   ],
   "source": [
    "data_analisis.shape"
   ]
  },
  {
   "cell_type": "markdown",
   "metadata": {},
   "source": [
    "## Discretización de la variable edad."
   ]
  },
  {
   "cell_type": "code",
   "execution_count": 6,
   "metadata": {},
   "outputs": [
    {
     "data": {
      "text/plain": [
       "<AxesSubplot:>"
      ]
     },
     "execution_count": 6,
     "metadata": {},
     "output_type": "execute_result"
    },
    {
     "data": {
      "image/png": "[encoded data removed]",
      "text/plain": [
       "<Figure size 432x288 with 1 Axes>"
      ]
     },
     "metadata": {
      "needs_background": "light"
     },
     "output_type": "display_data"
    }
   ],
   "source": [
    "data_analisis.groupby(by='Edad').count().reset_index().sort_values(by='Edad')['Y'].hist()"
   ]
  },
  {
   "cell_type": "code",
   "execution_count": 7,
   "metadata": {},
   "outputs": [
    {
     "data": {
      "text/html": [
       "<div>\n",
       "<style scoped>\n",
       "    .dataframe tbody tr th:only-of-type {\n",
       "        vertical-align: middle;\n",
       "    }\n",
       "\n",
       "    .dataframe tbody tr th {\n",
       "        vertical-align: top;\n",
       "    }\n",
       "\n",
       "    .dataframe thead th {\n",
       "        text-align: right;\n",
       "    }\n",
       "</style>\n",
       "<table border=\"1\" class=\"dataframe\">\n",
       "  <thead>\n",
       "    <tr style=\"text-align: right;\">\n",
       "      <th></th>\n",
       "      <th>CUENTA_TDC</th>\n",
       "      <th>HABITO_PAGO_TDC</th>\n",
       "      <th>SALDO_TDC</th>\n",
       "      <th>SALDO_CC</th>\n",
       "      <th>SALDO_SBG</th>\n",
       "      <th>CUPO_TDC</th>\n",
       "      <th>CUPO_CC</th>\n",
       "      <th>CUPO_SBG</th>\n",
       "      <th>Edad</th>\n",
       "      <th>estrato</th>\n",
       "      <th>NOMBRE_CIUDAD</th>\n",
       "      <th>DEPARTAMENTO</th>\n",
       "      <th>ACT_ECO</th>\n",
       "      <th>SEXO</th>\n",
       "      <th>NIVEL_EST</th>\n",
       "      <th>SALDO_TOTAL</th>\n",
       "      <th>CUPO_TOTAL</th>\n",
       "      <th>Y</th>\n",
       "    </tr>\n",
       "    <tr>\n",
       "      <th>grupo_edad</th>\n",
       "      <th></th>\n",
       "      <th></th>\n",
       "      <th></th>\n",
       "      <th></th>\n",
       "      <th></th>\n",
       "      <th></th>\n",
       "      <th></th>\n",
       "      <th></th>\n",
       "      <th></th>\n",
       "      <th></th>\n",
       "      <th></th>\n",
       "      <th></th>\n",
       "      <th></th>\n",
       "      <th></th>\n",
       "      <th></th>\n",
       "      <th></th>\n",
       "      <th></th>\n",
       "      <th></th>\n",
       "    </tr>\n",
       "  </thead>\n",
       "  <tbody>\n",
       "    <tr>\n",
       "      <th>34</th>\n",
       "      <td>972</td>\n",
       "      <td>956</td>\n",
       "      <td>972</td>\n",
       "      <td>972</td>\n",
       "      <td>972</td>\n",
       "      <td>972</td>\n",
       "      <td>972</td>\n",
       "      <td>972</td>\n",
       "      <td>972</td>\n",
       "      <td>972</td>\n",
       "      <td>967</td>\n",
       "      <td>967</td>\n",
       "      <td>972</td>\n",
       "      <td>971</td>\n",
       "      <td>972</td>\n",
       "      <td>972</td>\n",
       "      <td>972</td>\n",
       "      <td>972</td>\n",
       "    </tr>\n",
       "    <tr>\n",
       "      <th>34-41</th>\n",
       "      <td>949</td>\n",
       "      <td>935</td>\n",
       "      <td>949</td>\n",
       "      <td>949</td>\n",
       "      <td>949</td>\n",
       "      <td>949</td>\n",
       "      <td>949</td>\n",
       "      <td>949</td>\n",
       "      <td>949</td>\n",
       "      <td>949</td>\n",
       "      <td>944</td>\n",
       "      <td>944</td>\n",
       "      <td>949</td>\n",
       "      <td>949</td>\n",
       "      <td>949</td>\n",
       "      <td>949</td>\n",
       "      <td>949</td>\n",
       "      <td>949</td>\n",
       "    </tr>\n",
       "    <tr>\n",
       "      <th>40-48</th>\n",
       "      <td>994</td>\n",
       "      <td>979</td>\n",
       "      <td>994</td>\n",
       "      <td>994</td>\n",
       "      <td>994</td>\n",
       "      <td>994</td>\n",
       "      <td>994</td>\n",
       "      <td>994</td>\n",
       "      <td>994</td>\n",
       "      <td>994</td>\n",
       "      <td>990</td>\n",
       "      <td>990</td>\n",
       "      <td>929</td>\n",
       "      <td>929</td>\n",
       "      <td>929</td>\n",
       "      <td>994</td>\n",
       "      <td>994</td>\n",
       "      <td>994</td>\n",
       "    </tr>\n",
       "    <tr>\n",
       "      <th>48-57</th>\n",
       "      <td>1050</td>\n",
       "      <td>1038</td>\n",
       "      <td>1050</td>\n",
       "      <td>1050</td>\n",
       "      <td>1050</td>\n",
       "      <td>1050</td>\n",
       "      <td>1050</td>\n",
       "      <td>1050</td>\n",
       "      <td>1050</td>\n",
       "      <td>1050</td>\n",
       "      <td>1046</td>\n",
       "      <td>1046</td>\n",
       "      <td>1050</td>\n",
       "      <td>1050</td>\n",
       "      <td>1050</td>\n",
       "      <td>1050</td>\n",
       "      <td>1050</td>\n",
       "      <td>1050</td>\n",
       "    </tr>\n",
       "    <tr>\n",
       "      <th>57</th>\n",
       "      <td>1035</td>\n",
       "      <td>1029</td>\n",
       "      <td>1035</td>\n",
       "      <td>1035</td>\n",
       "      <td>1035</td>\n",
       "      <td>1035</td>\n",
       "      <td>1035</td>\n",
       "      <td>1035</td>\n",
       "      <td>1035</td>\n",
       "      <td>1035</td>\n",
       "      <td>1030</td>\n",
       "      <td>1030</td>\n",
       "      <td>1035</td>\n",
       "      <td>1035</td>\n",
       "      <td>1035</td>\n",
       "      <td>1035</td>\n",
       "      <td>1035</td>\n",
       "      <td>1035</td>\n",
       "    </tr>\n",
       "  </tbody>\n",
       "</table>\n",
       "</div>"
      ],
      "text/plain": [
       "            CUENTA_TDC  HABITO_PAGO_TDC  SALDO_TDC  SALDO_CC  SALDO_SBG  \\\n",
       "grupo_edad                                                                \n",
       "34                 972              956        972       972        972   \n",
       "34-41              949              935        949       949        949   \n",
       "40-48              994              979        994       994        994   \n",
       "48-57             1050             1038       1050      1050       1050   \n",
       "57                1035             1029       1035      1035       1035   \n",
       "\n",
       "            CUPO_TDC  CUPO_CC  CUPO_SBG  Edad  estrato  NOMBRE_CIUDAD  \\\n",
       "grupo_edad                                                              \n",
       "34               972      972       972   972      972            967   \n",
       "34-41            949      949       949   949      949            944   \n",
       "40-48            994      994       994   994      994            990   \n",
       "48-57           1050     1050      1050  1050     1050           1046   \n",
       "57              1035     1035      1035  1035     1035           1030   \n",
       "\n",
       "            DEPARTAMENTO  ACT_ECO  SEXO  NIVEL_EST  SALDO_TOTAL  CUPO_TOTAL  \\\n",
       "grupo_edad                                                                    \n",
       "34                   967      972   971        972          972         972   \n",
       "34-41                944      949   949        949          949         949   \n",
       "40-48                990      929   929        929          994         994   \n",
       "48-57               1046     1050  1050       1050         1050        1050   \n",
       "57                  1030     1035  1035       1035         1035        1035   \n",
       "\n",
       "               Y  \n",
       "grupo_edad        \n",
       "34           972  \n",
       "34-41        949  \n",
       "40-48        994  \n",
       "48-57       1050  \n",
       "57          1035  "
      ]
     },
     "execution_count": 7,
     "metadata": {},
     "output_type": "execute_result"
    }
   ],
   "source": [
    "###Función que permite discretizar una variable cuantitativa\n",
    "def cate(x):\n",
    "    if x['Edad']<=34:\n",
    "        return '34'\n",
    "    elif x['Edad']>34 and x['Edad']<=41:\n",
    "        return '34-41'\n",
    "    elif x['Edad']>41 and x['Edad']<=48:\n",
    "        return '40-48'\n",
    "    elif x['Edad']>48 and x['Edad']<=57:\n",
    "        return '48-57'\n",
    "    else:\n",
    "        return '57'\n",
    "        \n",
    "##Crear una nueva variable denominada \"grupo_edad\"\n",
    "data_analisis['grupo_edad']=data_analisis.apply(cate,axis=1)\n",
    "data_analisis.groupby(by='grupo_edad').count()"
   ]
  },
  {
   "cell_type": "code",
   "execution_count": 8,
   "metadata": {},
   "outputs": [],
   "source": [
    "data_analisis=data_analisis.drop(['Edad'],axis=1)"
   ]
  },
  {
   "cell_type": "code",
   "execution_count": 9,
   "metadata": {},
   "outputs": [
    {
     "data": {
      "text/plain": [
       "48-57    1050\n",
       "57       1035\n",
       "40-48     994\n",
       "34        972\n",
       "34-41     949\n",
       "Name: grupo_edad, dtype: int64"
      ]
     },
     "execution_count": 9,
     "metadata": {},
     "output_type": "execute_result"
    }
   ],
   "source": [
    "##Frecuencia absoluta\n",
    "pd.value_counts(data_analisis['grupo_edad'])"
   ]
  },
  {
   "cell_type": "code",
   "execution_count": 10,
   "metadata": {},
   "outputs": [
    {
     "data": {
      "text/plain": [
       "48-57    21.00\n",
       "57       20.70\n",
       "40-48    19.88\n",
       "34       19.44\n",
       "34-41    18.98\n",
       "Name: grupo_edad, dtype: float64"
      ]
     },
     "execution_count": 10,
     "metadata": {},
     "output_type": "execute_result"
    }
   ],
   "source": [
    "## Frecuencia relativa\n",
    "100 * data_analisis['grupo_edad'].value_counts() / len(data_analisis['grupo_edad'])"
   ]
  },
  {
   "cell_type": "markdown",
   "metadata": {},
   "source": [
    "A continuación, se redefine la variable y de la siguiente forma:"
   ]
  },
  {
   "cell_type": "code",
   "execution_count": 11,
   "metadata": {},
   "outputs": [
    {
     "data": {
      "text/plain": [
       "CUENTA_TDC           int64\n",
       "HABITO_PAGO_TDC     object\n",
       "SALDO_TDC          float64\n",
       "SALDO_CC           float64\n",
       "SALDO_SBG          float64\n",
       "CUPO_TDC             int64\n",
       "CUPO_CC            float64\n",
       "CUPO_SBG             int64\n",
       "estrato              int64\n",
       "NOMBRE_CIUDAD       object\n",
       "DEPARTAMENTO        object\n",
       "ACT_ECO             object\n",
       "SEXO                object\n",
       "NIVEL_EST           object\n",
       "SALDO_TOTAL        float64\n",
       "CUPO_TOTAL         float64\n",
       "Y                    int64\n",
       "grupo_edad          object\n",
       "dtype: object"
      ]
     },
     "execution_count": 11,
     "metadata": {},
     "output_type": "execute_result"
    }
   ],
   "source": [
    "data_analisis.dtypes"
   ]
  },
  {
   "cell_type": "code",
   "execution_count": 12,
   "metadata": {},
   "outputs": [],
   "source": [
    "data_analisis['estrato']=data_analisis['estrato'].astype(int)"
   ]
  },
  {
   "cell_type": "code",
   "execution_count": 13,
   "metadata": {},
   "outputs": [
    {
     "data": {
      "text/plain": [
       "(5000, 18)"
      ]
     },
     "execution_count": 13,
     "metadata": {},
     "output_type": "execute_result"
    }
   ],
   "source": [
    "data_analisis.shape"
   ]
  },
  {
   "cell_type": "markdown",
   "metadata": {},
   "source": [
    "### A continuación se realizar una selección aleatoria de datos de entrenamiento, validación y test. *"
   ]
  },
  {
   "cell_type": "markdown",
   "metadata": {},
   "source": [
    "Convertir variables categóricas a dummies."
   ]
  },
  {
   "cell_type": "code",
   "execution_count": 14,
   "metadata": {},
   "outputs": [
    {
     "data": {
      "text/plain": [
       "(5000, 92)"
      ]
     },
     "execution_count": 14,
     "metadata": {},
     "output_type": "execute_result"
    }
   ],
   "source": [
    "data_model = pd.get_dummies(data_analisis)\n",
    "data_model.shape"
   ]
  },
  {
   "cell_type": "code",
   "execution_count": 15,
   "metadata": {},
   "outputs": [
    {
     "data": {
      "text/plain": [
       "CUENTA_TDC            int64\n",
       "SALDO_TDC           float64\n",
       "SALDO_CC            float64\n",
       "SALDO_SBG           float64\n",
       "CUPO_TDC              int64\n",
       "                     ...   \n",
       "grupo_edad_34         uint8\n",
       "grupo_edad_34-41      uint8\n",
       "grupo_edad_40-48      uint8\n",
       "grupo_edad_48-57      uint8\n",
       "grupo_edad_57         uint8\n",
       "Length: 92, dtype: object"
      ]
     },
     "execution_count": 15,
     "metadata": {},
     "output_type": "execute_result"
    }
   ],
   "source": [
    "data_model.dtypes"
   ]
  },
  {
   "cell_type": "markdown",
   "metadata": {},
   "source": [
    "A continuación, se realiza una partición sobre la data."
   ]
  },
  {
   "cell_type": "code",
   "execution_count": 16,
   "metadata": {},
   "outputs": [],
   "source": [
    "###Partición de la data sobre entrenamiento y validacion.\n",
    "y = data_model['Y']\n",
    "X = data_model.drop(['Y'],axis=1)\n",
    "\n",
    "##Selección data de entrenamiento y test\n",
    "X_train, X_test_pre, y_train, y_test_pre = train_test_split(X, y, test_size=0.3, random_state=3)\n",
    "\n",
    "##Selección data de test y developer para tunnear los hiperparámetros\n",
    "X_dev, X_test, Y_dev, Y_test =  train_test_split(X_test_pre, y_test_pre, test_size=0.5, random_state=3)\n"
   ]
  },
  {
   "cell_type": "markdown",
   "metadata": {},
   "source": [
    "## Random Forest "
   ]
  },
  {
   "cell_type": "markdown",
   "metadata": {},
   "source": [
    "### Para obtener los hiperparámetros de un modelo random forest"
   ]
  },
  {
   "cell_type": "code",
   "execution_count": 21,
   "metadata": {},
   "outputs": [
    {
     "name": "stdout",
     "output_type": "stream",
     "text": [
      "#####################################\n",
      "max_depth:  9 max_features:  12 n_estimators:  5\n",
      "#####################################\n",
      "f1_score sobre datos de train\n",
      "0.2600896860986547\n",
      "f1_score sobre datos de desarrollo\n",
      "0.05555555555555555\n",
      "Diferencia entre el f1_score obtenido en test y desarrollo\n",
      "0.20453413054309913\n",
      "#####################################\n",
      "max_depth:  9 max_features:  12 n_estimators:  10\n",
      "#####################################\n",
      "f1_score sobre datos de train\n",
      "0.29333333333333333\n",
      "f1_score sobre datos de desarrollo\n",
      "0.05714285714285715\n",
      "Diferencia entre el f1_score obtenido en test y desarrollo\n",
      "0.23619047619047617\n",
      "#####################################\n",
      "max_depth:  9 max_features:  12 n_estimators:  20\n",
      "#####################################\n",
      "f1_score sobre datos de train\n",
      "0.2465753424657534\n",
      "f1_score sobre datos de desarrollo\n",
      "0.0\n",
      "Diferencia entre el f1_score obtenido en test y desarrollo\n",
      "0.2465753424657534\n",
      "#####################################\n",
      "max_depth:  9 max_features:  15 n_estimators:  5\n",
      "#####################################\n",
      "f1_score sobre datos de train\n",
      "0.3404255319148936\n",
      "f1_score sobre datos de desarrollo\n",
      "0.054054054054054064\n",
      "Diferencia entre el f1_score obtenido en test y desarrollo\n",
      "0.28637147786083955\n",
      "#####################################\n",
      "max_depth:  9 max_features:  15 n_estimators:  10\n",
      "#####################################\n",
      "f1_score sobre datos de train\n",
      "0.379746835443038\n",
      "f1_score sobre datos de desarrollo\n",
      "0.05555555555555555\n",
      "Diferencia entre el f1_score obtenido en test y desarrollo\n",
      "0.3241912798874824\n",
      "#####################################\n",
      "max_depth:  9 max_features:  15 n_estimators:  20\n",
      "#####################################\n",
      "f1_score sobre datos de train\n",
      "0.35193133047210295\n",
      "f1_score sobre datos de desarrollo\n",
      "0.0\n",
      "Diferencia entre el f1_score obtenido en test y desarrollo\n",
      "0.35193133047210295\n",
      "#####################################\n",
      "max_depth:  9 max_features:  18 n_estimators:  5\n",
      "#####################################\n",
      "f1_score sobre datos de train\n",
      "0.46031746031746024\n",
      "f1_score sobre datos de desarrollo\n",
      "0.05555555555555555\n",
      "Diferencia entre el f1_score obtenido en test y desarrollo\n",
      "0.40476190476190466\n",
      "#####################################\n",
      "max_depth:  9 max_features:  18 n_estimators:  10\n",
      "#####################################\n",
      "f1_score sobre datos de train\n",
      "0.44534412955465585\n",
      "f1_score sobre datos de desarrollo\n",
      "0.05555555555555555\n",
      "Diferencia entre el f1_score obtenido en test y desarrollo\n",
      "0.3897885739991003\n",
      "#####################################\n",
      "max_depth:  9 max_features:  18 n_estimators:  20\n",
      "#####################################\n",
      "f1_score sobre datos de train\n",
      "0.4066390041493776\n",
      "f1_score sobre datos de desarrollo\n",
      "0.05882352941176471\n",
      "Diferencia entre el f1_score obtenido en test y desarrollo\n",
      "0.3478154747376129\n",
      "#####################################\n",
      "max_depth:  12 max_features:  12 n_estimators:  5\n",
      "#####################################\n",
      "f1_score sobre datos de train\n",
      "0.38842975206611563\n",
      "f1_score sobre datos de desarrollo\n",
      "0.05714285714285715\n",
      "Diferencia entre el f1_score obtenido en test y desarrollo\n",
      "0.33128689492325847\n",
      "#####################################\n",
      "max_depth:  12 max_features:  12 n_estimators:  10\n",
      "#####################################\n",
      "f1_score sobre datos de train\n",
      "0.5019305019305019\n",
      "f1_score sobre datos de desarrollo\n",
      "0.05555555555555555\n",
      "Diferencia entre el f1_score obtenido en test y desarrollo\n",
      "0.44637494637494635\n",
      "#####################################\n",
      "max_depth:  12 max_features:  12 n_estimators:  20\n",
      "#####################################\n",
      "f1_score sobre datos de train\n",
      "0.5116279069767442\n",
      "f1_score sobre datos de desarrollo\n",
      "0.05882352941176471\n",
      "Diferencia entre el f1_score obtenido en test y desarrollo\n",
      "0.4528043775649795\n",
      "#####################################\n",
      "max_depth:  12 max_features:  15 n_estimators:  5\n",
      "#####################################\n",
      "f1_score sobre datos de train\n",
      "0.5358490566037736\n",
      "f1_score sobre datos de desarrollo\n",
      "0.15384615384615385\n",
      "Diferencia entre el f1_score obtenido en test y desarrollo\n",
      "0.3820029027576197\n",
      "#####################################\n",
      "max_depth:  12 max_features:  15 n_estimators:  10\n",
      "#####################################\n",
      "f1_score sobre datos de train\n",
      "0.5882352941176471\n",
      "f1_score sobre datos de desarrollo\n",
      "0.10810810810810813\n",
      "Diferencia entre el f1_score obtenido en test y desarrollo\n",
      "0.48012718600953896\n",
      "#####################################\n",
      "max_depth:  12 max_features:  15 n_estimators:  20\n",
      "#####################################\n",
      "f1_score sobre datos de train\n",
      "0.5399239543726235\n",
      "f1_score sobre datos de desarrollo\n",
      "0.10810810810810813\n",
      "Diferencia entre el f1_score obtenido en test y desarrollo\n",
      "0.4318158462645154\n",
      "#####################################\n",
      "max_depth:  12 max_features:  18 n_estimators:  5\n",
      "#####################################\n",
      "f1_score sobre datos de train\n",
      "0.5755395683453238\n",
      "f1_score sobre datos de desarrollo\n",
      "0.1\n",
      "Diferencia entre el f1_score obtenido en test y desarrollo\n",
      "0.47553956834532385\n",
      "#####################################\n",
      "max_depth:  12 max_features:  18 n_estimators:  10\n",
      "#####################################\n",
      "f1_score sobre datos de train\n",
      "0.6164874551971327\n",
      "f1_score sobre datos de desarrollo\n",
      "0.10526315789473685\n",
      "Diferencia entre el f1_score obtenido en test y desarrollo\n",
      "0.5112242973023958\n",
      "#####################################\n",
      "max_depth:  12 max_features:  18 n_estimators:  20\n",
      "#####################################\n",
      "f1_score sobre datos de train\n",
      "0.5985401459854015\n",
      "f1_score sobre datos de desarrollo\n",
      "0.05714285714285715\n",
      "Diferencia entre el f1_score obtenido en test y desarrollo\n",
      "0.5413972888425443\n",
      "#####################################\n",
      "max_depth:  15 max_features:  12 n_estimators:  5\n",
      "#####################################\n",
      "f1_score sobre datos de train\n",
      "0.6021505376344085\n",
      "f1_score sobre datos de desarrollo\n",
      "0.0\n",
      "Diferencia entre el f1_score obtenido en test y desarrollo\n",
      "0.6021505376344085\n",
      "#####################################\n",
      "max_depth:  15 max_features:  12 n_estimators:  10\n",
      "#####################################\n",
      "f1_score sobre datos de train\n",
      "0.6804123711340206\n",
      "f1_score sobre datos de desarrollo\n",
      "0.052631578947368425\n",
      "Diferencia entre el f1_score obtenido en test y desarrollo\n",
      "0.6277807921866522\n",
      "#####################################\n",
      "max_depth:  15 max_features:  12 n_estimators:  20\n",
      "#####################################\n",
      "f1_score sobre datos de train\n",
      "0.6938775510204082\n",
      "f1_score sobre datos de desarrollo\n",
      "0.05555555555555555\n",
      "Diferencia entre el f1_score obtenido en test y desarrollo\n",
      "0.6383219954648526\n",
      "#####################################\n",
      "max_depth:  15 max_features:  15 n_estimators:  5\n",
      "#####################################\n",
      "f1_score sobre datos de train\n",
      "0.5818181818181818\n",
      "f1_score sobre datos de desarrollo\n",
      "0.15384615384615385\n",
      "Diferencia entre el f1_score obtenido en test y desarrollo\n",
      "0.42797202797202794\n",
      "#####################################\n",
      "max_depth:  15 max_features:  15 n_estimators:  10\n",
      "#####################################\n",
      "f1_score sobre datos de train\n",
      "0.6643598615916955\n",
      "f1_score sobre datos de desarrollo\n",
      "0.05555555555555555\n",
      "Diferencia entre el f1_score obtenido en test y desarrollo\n",
      "0.6088043060361399\n",
      "#####################################\n",
      "max_depth:  15 max_features:  15 n_estimators:  20\n",
      "#####################################\n",
      "f1_score sobre datos de train\n",
      "0.6938775510204082\n",
      "f1_score sobre datos de desarrollo\n",
      "0.0\n",
      "Diferencia entre el f1_score obtenido en test y desarrollo\n",
      "0.6938775510204082\n",
      "#####################################\n",
      "max_depth:  15 max_features:  18 n_estimators:  5\n",
      "#####################################\n",
      "f1_score sobre datos de train\n",
      "0.7062706270627063\n",
      "f1_score sobre datos de desarrollo\n",
      "0.1\n",
      "Diferencia entre el f1_score obtenido en test y desarrollo\n",
      "0.6062706270627063\n",
      "#####################################\n",
      "max_depth:  15 max_features:  18 n_estimators:  10\n",
      "#####################################\n",
      "f1_score sobre datos de train\n",
      "0.7218543046357617\n",
      "f1_score sobre datos de desarrollo\n",
      "0.054054054054054064\n",
      "Diferencia entre el f1_score obtenido en test y desarrollo\n",
      "0.6678002505817077\n",
      "#####################################\n",
      "max_depth:  15 max_features:  18 n_estimators:  20\n",
      "#####################################\n",
      "f1_score sobre datos de train\n",
      "0.7572815533980582\n",
      "f1_score sobre datos de desarrollo\n",
      "0.05714285714285715\n",
      "Diferencia entre el f1_score obtenido en test y desarrollo\n",
      "0.7001386962552011\n",
      "#####################################\n",
      "max_depth:  18 max_features:  12 n_estimators:  5\n",
      "#####################################\n",
      "f1_score sobre datos de train\n",
      "0.7313915857605178\n",
      "f1_score sobre datos de desarrollo\n",
      "0.0\n",
      "Diferencia entre el f1_score obtenido en test y desarrollo\n",
      "0.7313915857605178\n",
      "#####################################\n",
      "max_depth:  18 max_features:  12 n_estimators:  10\n",
      "#####################################\n",
      "f1_score sobre datos de train\n",
      "0.8074534161490683\n",
      "f1_score sobre datos de desarrollo\n",
      "0.054054054054054064\n",
      "Diferencia entre el f1_score obtenido en test y desarrollo\n",
      "0.7533993620950142\n",
      "#####################################\n",
      "max_depth:  18 max_features:  12 n_estimators:  20\n",
      "#####################################\n",
      "f1_score sobre datos de train\n",
      "0.8328267477203648\n",
      "f1_score sobre datos de desarrollo\n",
      "0.0\n",
      "Diferencia entre el f1_score obtenido en test y desarrollo\n",
      "0.8328267477203648\n",
      "#####################################\n",
      "max_depth:  18 max_features:  15 n_estimators:  5\n",
      "#####################################\n",
      "f1_score sobre datos de train\n",
      "0.7467532467532468\n",
      "f1_score sobre datos de desarrollo\n",
      "0.1142857142857143\n",
      "Diferencia entre el f1_score obtenido en test y desarrollo\n",
      "0.6324675324675325\n",
      "#####################################\n",
      "max_depth:  18 max_features:  15 n_estimators:  10\n",
      "#####################################\n",
      "f1_score sobre datos de train\n",
      "0.7886435331230284\n",
      "f1_score sobre datos de desarrollo\n",
      "0.0\n",
      "Diferencia entre el f1_score obtenido en test y desarrollo\n",
      "0.7886435331230284\n",
      "#####################################\n",
      "max_depth:  18 max_features:  15 n_estimators:  20\n",
      "#####################################\n",
      "f1_score sobre datos de train\n",
      "0.8537313432835821\n",
      "f1_score sobre datos de desarrollo\n",
      "0.10810810810810813\n",
      "Diferencia entre el f1_score obtenido en test y desarrollo\n",
      "0.745623235175474\n",
      "#####################################\n",
      "max_depth:  18 max_features:  18 n_estimators:  5\n",
      "#####################################\n",
      "f1_score sobre datos de train\n",
      "0.8181818181818182\n",
      "f1_score sobre datos de desarrollo\n",
      "0.08888888888888888\n",
      "Diferencia entre el f1_score obtenido en test y desarrollo\n",
      "0.7292929292929293\n",
      "#####################################\n",
      "max_depth:  18 max_features:  18 n_estimators:  10\n",
      "#####################################\n",
      "f1_score sobre datos de train\n",
      "0.8468468468468469\n",
      "f1_score sobre datos de desarrollo\n",
      "0.10526315789473685\n",
      "Diferencia entre el f1_score obtenido en test y desarrollo\n",
      "0.74158368895211\n",
      "#####################################\n",
      "max_depth:  18 max_features:  18 n_estimators:  20\n",
      "#####################################\n",
      "f1_score sobre datos de train\n",
      "0.8901734104046243\n",
      "f1_score sobre datos de desarrollo\n",
      "0.1111111111111111\n",
      "Diferencia entre el f1_score obtenido en test y desarrollo\n",
      "0.7790622992935132\n"
     ]
    }
   ],
   "source": [
    "def eval_model(X_train, y_train, X_test, y_test):\n",
    "    \"\"\"\n",
    "    Función para obtener los hiperparámetros del modelo random forest.\n",
    "    Parámetros: Recibe como parámetros los datos de entrenamiento y los datos de desarrollo.\n",
    "    únicamente encuentra la mejor combinaciones de los marámetros n_estimators, learning_rate,\n",
    "    max_depth, max_features.       \n",
    "    \"\"\"\n",
    "    vector_n_estimators=[10, 20, 30]  ## si va\n",
    "    lr_list = [1]   ## No va\n",
    "    vector_max_depth=[9, 12, 15]  ## si va\n",
    "    max_features=[9, 12, 14] ## si va\n",
    "    for r in lr_list:\n",
    "        for p in vector_max_depth:\n",
    "            for f in max_features:\n",
    "                for e in vector_n_estimators:\n",
    "                    alg = RandomForestClassifier(n_estimators=e, \n",
    "                                                     #learning_rate=r, \n",
    "                                                     max_features=f, \n",
    "                                                     max_depth=p, \n",
    "                                                     random_state=0)\n",
    "                    ##Inicio del entrenamiento\n",
    "                    alg.fit(X_train, y_train)\n",
    "                    # Para comenzar con la prediccion sobre test\n",
    "                    predictions = alg.predict(X_test)\n",
    "                    pred_proba = alg.predict_proba(X_test)[:, 1]\n",
    "                    # Para comenzar con la predicción sobre train\n",
    "                    predictions_train = alg.predict(X_train)\n",
    "                    pred_proba_train = alg.predict_proba(X_train)[:, 1]\n",
    "                    dif_accuracy = abs(metrics.f1_score(y_train, predictions_train) - metrics.f1_score(y_test, predictions))\n",
    "                    ##Para imprimer las predicciones sobre cada combinación de hiperparámetros.\n",
    "                    print(\"#####################################\")\n",
    "                    print(\"max_depth: \", p, \"max_features: \", f, \"n_estimators: \", e)\n",
    "                    print(\"#####################################\")\n",
    "                    print(\"f1_score sobre datos de train\")\n",
    "                    print(metrics.f1_score(y_train, predictions_train))\n",
    "                    print('f1_score sobre datos de desarrollo')\n",
    "                    print(metrics.f1_score(y_test, predictions))\n",
    "                    print(\"Diferencia entre el f1_score obtenido en test y desarrollo\")\n",
    "                    print(dif_accuracy)\n",
    "                    \n",
    "##Para aplicar la fución anterior.  \n",
    "eval_model(X_train, y_train, X_dev, Y_dev)  "
   ]
  },
  {
   "cell_type": "markdown",
   "metadata": {},
   "source": [
    "### Importante \n",
    "Los mejores hiperparámetros para el random forest son: max_depth:  9 max_features:  12 n_estimators:  100"
   ]
  },
  {
   "cell_type": "markdown",
   "metadata": {},
   "source": [
    "### Función para estimar el modelo basado en random forest con los hiperparámetros seleccionados y aplicarlos sobre la data de test "
   ]
  },
  {
   "cell_type": "code",
   "execution_count": 22,
   "metadata": {},
   "outputs": [
    {
     "name": "stdout",
     "output_type": "stream",
     "text": [
      "Inicio entrenamiento\n",
      "Iniciar la predicciòn\n",
      "Metricas al aplicar el modelo sobre los datos de train \n",
      "Accuracy sobtr train\n",
      "0.9737142857142858\n",
      "AUC sobre train\n",
      "0.9935250088170093\n",
      "Matriz de confusion sobre train\n",
      "[[3308    0]\n",
      " [  92  100]]\n",
      "Recall sobre train\n",
      "0.5208333333333334\n",
      "Precision sobre train\n",
      "1.0\n",
      "f1-Score sobre train\n",
      "0.684931506849315\n",
      "Reporte clasificación sobre train\n",
      "              precision    recall  f1-score   support\n",
      "\n",
      "           0       0.97      1.00      0.99      3308\n",
      "           1       1.00      0.52      0.68       192\n",
      "\n",
      "    accuracy                           0.97      3500\n",
      "   macro avg       0.99      0.76      0.84      3500\n",
      "weighted avg       0.97      0.97      0.97      3500\n",
      "\n",
      "Metricas al aplicar el modelo sobre los datos de test  \n",
      "Accuracy sobre test\n",
      "0.9453333333333334\n",
      "AUC sobre test\n",
      "0.7965957446808511\n",
      "Matriz de confusion sobre test\n",
      "[[703   2]\n",
      " [ 39   6]]\n",
      "Recall sobre test\n",
      "0.13333333333333333\n",
      "Precision sobre test\n",
      "0.75\n",
      "f1-Score sobre test\n",
      "0.22641509433962267\n",
      "Reporte clasificación sobre test\n",
      "              precision    recall  f1-score   support\n",
      "\n",
      "           0       0.95      1.00      0.97       705\n",
      "           1       0.75      0.13      0.23        45\n",
      "\n",
      "    accuracy                           0.95       750\n",
      "   macro avg       0.85      0.57      0.60       750\n",
      "weighted avg       0.94      0.95      0.93       750\n",
      "\n"
     ]
    },
    {
     "data": {
      "image/png": "[encoded data removed]",
      "text/plain": [
       "<Figure size 432x288 with 1 Axes>"
      ]
     },
     "metadata": {
      "needs_background": "light"
     },
     "output_type": "display_data"
    },
    {
     "name": "stdout",
     "output_type": "stream",
     "text": [
      "                 Features  Importance\n",
      "8             SALDO_TOTAL    0.097519\n",
      "1               SALDO_TDC    0.096375\n",
      "9              CUPO_TOTAL    0.091924\n",
      "0              CUENTA_TDC    0.074607\n",
      "4                CUPO_TDC    0.070380\n",
      "..                    ...         ...\n",
      "27    NOMBRE_CIUDAD_BELLO    0.000000\n",
      "72        ACT_ECO_Militar    0.000000\n",
      "35  NOMBRE_CIUDAD_GIRARDO    0.000000\n",
      "43  NOMBRE_CIUDAD_RIONEGR    0.000000\n",
      "45   NOMBRE_CIUDAD_SOACHA    0.000000\n",
      "\n",
      "[91 rows x 2 columns]\n",
      "['SALDO_TOTAL', 'SALDO_TDC', 'CUPO_TOTAL', 'CUENTA_TDC', 'CUPO_TDC', 'HABITO_PAGO_TDC_A', 'HABITO_PAGO_TDC_9', 'HABITO_PAGO_TDC_8', 'estrato', 'HABITO_PAGO_TDC_7', 'HABITO_PAGO_TDC_6', 'HABITO_PAGO_TDC_1', 'ACT_ECO_Pres Servicios', 'DEPARTAMENTO_Bogotá D.C', 'grupo_edad_34', 'ACT_ECO_Empleado Privado', 'NIVEL_EST_Profesional', 'NIVEL_EST_Ninguno', 'SEXO_F', 'grupo_edad_40-48', 'grupo_edad_34-41', 'HABITO_PAGO_TDC_2', 'HABITO_PAGO_TDC_4', 'NOMBRE_CIUDAD_BOGOTA', 'SEXO_M', 'CUPO_CC', 'DEPARTAMENTO_Santander', 'DEPARTAMENTO_Valle del', 'SALDO_CC', 'DEPARTAMENTO_Antioquia', 'NOMBRE_CIUDAD_BUCARAM', 'NIVEL_EST_Técnico/Tecnológico', 'ACT_ECO_Independiente', 'NOMBRE_CIUDAD_CALI', 'NOMBRE_CIUDAD_MEDELLI', 'NOMBRE_CIUDAD_CUCUTIL', 'ACT_ECO_Pensionado', 'HABITO_PAGO_TDC_5', 'DEPARTAMENTO_Atlántico', 'NOMBRE_CIUDAD_CARTAGE', 'grupo_edad_48-57', 'NOMBRE_CIUDAD_BARRANQ', 'DEPARTAMENTO_Norte de S', 'NIVEL_EST_Secundario', 'grupo_edad_57', 'HABITO_PAGO_TDC_3', 'ACT_ECO_Rentista', 'DEPARTAMENTO_Risaralda', 'DEPARTAMENTO_Huila', 'HABITO_PAGO_TDC_B', 'DEPARTAMENTO_Quindio', 'NIVEL_EST_Postgrado', 'DEPARTAMENTO_Magdalena', 'CUPO_SBG', 'DEPARTAMENTO_Tolima', 'NOMBRE_CIUDAD_MONTERI', 'DEPARTAMENTO_Córdoba', 'ACT_ECO_Empleado Publico', 'NOMBRE_CIUDAD_VALLEDU', 'DEPARTAMENTO_Bolívar', 'DEPARTAMENTO_Cesar', 'ACT_ECO_Transportador', 'NIVEL_EST_Primario', 'NOMBRE_CIUDAD_CHÍA', 'NOMBRE_CIUDAD_ENVIGAD', 'DEPARTAMENTO_Meta', 'NOMBRE_CIUDAD_PEREIRA', 'NOMBRE_CIUDAD_PALMIRA', 'NOMBRE_CIUDAD_SANTA M', 'ACT_ECO_Policia', 'NOMBRE_CIUDAD_ARMENIA', 'ACT_ECO_Ama de casa', 'NOMBRE_CIUDAD_NEIVA', 'DEPARTAMENTO_Caldas', 'NOMBRE_CIUDAD_YOPAL', 'NOMBRE_CIUDAD_IBAGUE', 'NOMBRE_CIUDAD_VILLAVI', 'DEPARTAMENTO_Casanare', 'DEPARTAMENTO_Cundinamar', 'NOMBRE_CIUDAD_MANIZAL', 'HABITO_PAGO_TDC_0', 'HABITO_PAGO_TDC_C', 'SALDO_SBG', 'ACT_ECO_Comerciante', 'HABITO_PAGO_TDC_D', 'HABITO_PAGO_TDC_E', 'NOMBRE_CIUDAD_BELLO', 'ACT_ECO_Militar', 'NOMBRE_CIUDAD_GIRARDO', 'NOMBRE_CIUDAD_RIONEGR', 'NOMBRE_CIUDAD_SOACHA']\n"
     ]
    }
   ],
   "source": [
    "def tree_classifier(X_train, X_test, y_train, y_test):\n",
    "    \"\"\"\n",
    "    Función para estimar un modelo utilizando random forest \n",
    "    Esta funciòn recibe como parametros los datos de entrenamiento y de test\n",
    "    Finalmente, imprime el AUC, f1-score, precision, recall, accuracy\n",
    "    por cada clase, tanto para la data de entrenamiento, como la de test.\n",
    "    Finaalmente, esta función también imprime la importancia de las variables.\n",
    "       \n",
    "    \"\"\"\n",
    "    alg = RandomForestClassifier(n_estimators=10, \n",
    "                                #learning_rate=r, \n",
    "                                max_features=14, \n",
    "                                max_depth=15, \n",
    "                                random_state=0)\n",
    "    # Entrenamiento\n",
    "    print('Inicio entrenamiento')\n",
    "    alg.fit(X_train, y_train)\n",
    "    # Guardar el modelo en disco en el siguiente directorio\n",
    "    # save the model to disk\n",
    "    #%cd C:\\Users\\\\USUARIO\\\\Documents\\\\Monitoria_cda_2019_2\\\\Clases_Python\\\\Clase8_Python\n",
    "    #filename = 'finalized_model.sav'\n",
    "    #joblib.dump(alg, filename)\n",
    "\n",
    "    # Para comenzar con la prediccion\n",
    "    print(\"Iniciar la predicciòn\")\n",
    "    predictions = alg.predict(X_test)\n",
    "    pred_proba = alg.predict_proba(X_test)[:, 1]\n",
    "    \n",
    "    predictions_train = alg.predict(X_train)\n",
    "    pred_proba_train = alg.predict_proba(X_train)[:, 1]\n",
    "    \n",
    "    #Para imprimir las metricas al aplicar el modelo sobre los datos de train\n",
    "    \n",
    "    # Para imprimir las métricas al aplicar el modelo sobre los datos de test\n",
    "    print(\"Metricas al aplicar el modelo sobre los datos de train \")\n",
    "    print(\"Accuracy sobtr train\")\n",
    "    print(metrics.accuracy_score(y_train, predictions_train))\n",
    "    print(\"AUC sobre train\")\n",
    "    print(metrics.roc_auc_score(y_train, pred_proba_train))\n",
    "    print(\"Matriz de confusion sobre train\")\n",
    "    print(confusion_matrix(y_train, predictions_train))\n",
    "    print(\"Recall sobre train\")\n",
    "    print(metrics.recall_score(y_train, predictions_train))\n",
    "    print(\"Precision sobre train\")\n",
    "    print(metrics.precision_score(y_train, predictions_train))\n",
    "    print(\"f1-Score sobre train\")\n",
    "    print( metrics.f1_score(y_train, predictions_train))\n",
    "    print(\"Reporte clasificación sobre train\")\n",
    "    print(classification_report(y_train, predictions_train))\n",
    "\n",
    "    # Para imprimir las métricas al aplicar el modelo sobre los datos de test\n",
    "    print(\"Metricas al aplicar el modelo sobre los datos de test  \")\n",
    "    print(\"Accuracy sobre test\")\n",
    "    print(metrics.accuracy_score(y_test, predictions))\n",
    "    print(\"AUC sobre test\")\n",
    "    print(metrics.roc_auc_score(y_test, pred_proba))\n",
    "    print(\"Matriz de confusion sobre test\")\n",
    "    print(confusion_matrix(y_test, predictions))\n",
    "    print(\"Recall sobre test\")\n",
    "    print(metrics.recall_score(y_test, predictions))\n",
    "    print(\"Precision sobre test\")\n",
    "    print(metrics.precision_score(y_test, predictions))\n",
    "    print(\"f1-Score sobre test\")\n",
    "    print( metrics.f1_score(y_test, predictions))\n",
    "    print(\"Reporte clasificación sobre test\")\n",
    "    print(classification_report(y_test, predictions))\n",
    "    \n",
    "    feat_imp = alg.feature_importances_\n",
    "    feat = X_train.columns.tolist()\n",
    "    # clf.best_estimator_.booster().get_fscore()\n",
    "    res_df = pd.DataFrame({'Features': feat, 'Importance': feat_imp}).sort_values(by='Importance', ascending=False)\n",
    "    res_df.plot('Features', \n",
    "                'Importance', \n",
    "                kind='bar', \n",
    "                title='Feature Importances',\n",
    "                color= \"blue\")\n",
    "    plt.ylabel('Feature Importance Score')\n",
    "    plt.show()\n",
    "    print(res_df)\n",
    "    print(res_df[\"Features\"].tolist())\n",
    "\n",
    "tree_classifier(X_train, X_test, y_train, Y_test)"
   ]
  },
  {
   "cell_type": "code",
   "execution_count": null,
   "metadata": {},
   "outputs": [],
   "source": []
  }
 ],
 "metadata": {
  "kernelspec": {
   "display_name": "Python 3",
   "language": "python",
   "name": "python3"
  },
  "language_info": {
   "codemirror_mode": {
    "name": "ipython",
    "version": 3
   },
   "file_extension": ".py",
   "mimetype": "text/x-python",
   "name": "python",
   "nbconvert_exporter": "python",
   "pygments_lexer": "ipython3",
   "version": "3.7.9"
  }
 },
 "nbformat": 4,
 "nbformat_minor": 2
}
